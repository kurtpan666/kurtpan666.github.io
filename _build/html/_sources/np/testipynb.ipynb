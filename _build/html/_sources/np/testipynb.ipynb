{
 "cells": [
  {
   "cell_type": "markdown",
   "id": "02a1c3f2-4f4e-4a6d-a57d-cf4f617452ed",
   "metadata": {},
   "source": [
    "Python是一门**动态类型**的语言"
   ]
  },
  {
   "cell_type": "markdown",
   "id": "4645dcc4-1bbf-4e8d-a74c-eddc8595f0c3",
   "metadata": {},
   "source": [
    "## Unpacking"
   ]
  },
  {
   "cell_type": "code",
   "execution_count": 1,
   "id": "bef4c972-a90f-4716-92de-12c7b81a928b",
   "metadata": {},
   "outputs": [],
   "source": [
    "attrs = [1,['xi', -1]]\n",
    "user_id, (username, score) = attrs"
   ]
  },
  {
   "cell_type": "code",
   "execution_count": 2,
   "id": "d0a9e819-eacc-483c-8f9e-57854b76d69b",
   "metadata": {},
   "outputs": [
    {
     "name": "stdout",
     "output_type": "stream",
     "text": [
      "1 xi -1\n"
     ]
    }
   ],
   "source": [
    "print(user_id,username,score)"
   ]
  },
  {
   "cell_type": "markdown",
   "id": "6a7f1357-0931-4aff-ae34-2b7074176ede",
   "metadata": {},
   "source": [
    "dynamic unpacking : \\*variables  **starred expressions** 可以完全代替手动切片赋值"
   ]
  },
  {
   "cell_type": "code",
   "execution_count": 13,
   "id": "c70ad047-661a-4871-ada6-669b0ea74b0e",
   "metadata": {},
   "outputs": [
    {
     "name": "stdout",
     "output_type": "stream",
     "text": [
      "jiang ['hu', 'xi', 'qi'] 2049\n"
     ]
    }
   ],
   "source": [
    "data = ['jiang','hu','xi','qi', 2049]\n",
    "username, *huxiqi, year = data\n",
    "print(username, huxiqi, year)"
   ]
  },
  {
   "cell_type": "code",
   "execution_count": 5,
   "id": "935538cd-82c4-456d-8d62-0e6c60971dcd",
   "metadata": {},
   "outputs": [
    {
     "name": "stdout",
     "output_type": "stream",
     "text": [
      "jiang ['hu', 'xi', 'qi'] 2049\n"
     ]
    }
   ],
   "source": [
    "username, huxiqi, year = data[0], data[1:-1], data[-1]\n",
    "print(username, huxiqi, year)"
   ]
  },
  {
   "cell_type": "code",
   "execution_count": 17,
   "id": "d62c22e9-6e1b-4d62-aede-392917983266",
   "metadata": {},
   "outputs": [
    {
     "data": {
      "text/plain": [
       "'jiang'"
      ]
     },
     "execution_count": 17,
     "metadata": {},
     "output_type": "execute_result"
    }
   ],
   "source": [
    "username, *_, score = data\n",
    "username"
   ]
  },
  {
   "cell_type": "code",
   "execution_count": 21,
   "id": "53119327-db87-4198-8992-80ca654137ff",
   "metadata": {},
   "outputs": [],
   "source": [
    "def magic_bubble_sort(numbers):\n",
    "    j = len(numbers) - 1\n",
    "    while j > 0 :\n",
    "        for i in range(j):\n",
    "            if numbers[i] % 2 == 0 and numbers[i+1] % 2 == 1:\n",
    "                numbers[i], numbers[i+1] = numbers[i+1],numbers[i]\n",
    "                continue\n",
    "            elif (numbers[i+1] % 2 == numbers[i] % 2) and numbers[i] > numbers[i+1]:\n",
    "                numbers[i], numbers[i+1] == numbers[i+1],numbers[i]\n",
    "                continue\n",
    "        j -= 1\n",
    "    return numbers\n",
    "numbers = [23,32,1,3,4,19,20,2,4]\n",
    "    "
   ]
  },
  {
   "cell_type": "code",
   "execution_count": 22,
   "id": "d65676bd-a715-45e2-b116-9b7a2a136e31",
   "metadata": {},
   "outputs": [
    {
     "data": {
      "text/plain": [
       "[23, 1, 3, 19, 32, 4, 20, 2, 4]"
      ]
     },
     "execution_count": 22,
     "metadata": {},
     "output_type": "execute_result"
    }
   ],
   "source": [
    "magic_bubble_sort(numbers)"
   ]
  },
  {
   "cell_type": "code",
   "execution_count": 28,
   "id": "305697b9-48d1-484e-9e2e-f780dde3055d",
   "metadata": {},
   "outputs": [
    {
     "ename": "UnboundLocalError",
     "evalue": "local variable 'should_swap' referenced before assignment",
     "output_type": "error",
     "traceback": [
      "\u001b[0;31m---------------------------------------------------------------------------\u001b[0m",
      "\u001b[0;31mUnboundLocalError\u001b[0m                         Traceback (most recent call last)",
      "Input \u001b[0;32mIn [28]\u001b[0m, in \u001b[0;36m<cell line: 23>\u001b[0;34m()\u001b[0m\n\u001b[1;32m     21\u001b[0m             stop_position \u001b[38;5;241m-\u001b[39m\u001b[38;5;241m=\u001b[39m \u001b[38;5;241m1\u001b[39m\n\u001b[1;32m     22\u001b[0m     \u001b[38;5;28;01mreturn\u001b[39;00m numbers\n\u001b[0;32m---> 23\u001b[0m \u001b[43mmagic_bubble_sort\u001b[49m\u001b[43m(\u001b[49m\u001b[43mnumbers\u001b[49m\u001b[43m)\u001b[49m\n",
      "Input \u001b[0;32mIn [28]\u001b[0m, in \u001b[0;36mmagic_bubble_sort\u001b[0;34m(numbers)\u001b[0m\n\u001b[1;32m     16\u001b[0m \u001b[38;5;28;01melif\u001b[39;00m current_is_even \u001b[38;5;241m==\u001b[39m next_is_even \u001b[38;5;129;01mand\u001b[39;00m current \u001b[38;5;241m>\u001b[39m next_:\n\u001b[1;32m     17\u001b[0m     should_swap \u001b[38;5;241m=\u001b[39m \u001b[38;5;28;01mTrue\u001b[39;00m\n\u001b[0;32m---> 19\u001b[0m \u001b[38;5;28;01mif\u001b[39;00m \u001b[43mshould_swap\u001b[49m:\n\u001b[1;32m     20\u001b[0m     numbers[i], numbers[i\u001b[38;5;241m+\u001b[39m\u001b[38;5;241m1\u001b[39m] \u001b[38;5;241m=\u001b[39m numbers[i\u001b[38;5;241m+\u001b[39m\u001b[38;5;241m1\u001b[39m],numbers[i]\n\u001b[1;32m     21\u001b[0m stop_position \u001b[38;5;241m-\u001b[39m\u001b[38;5;241m=\u001b[39m \u001b[38;5;241m1\u001b[39m\n",
      "\u001b[0;31mUnboundLocalError\u001b[0m: local variable 'should_swap' referenced before assignment"
     ]
    }
   ],
   "source": [
    "def magic_bubble_sort(numbers):\n",
    "    \"\"\"有魔力的冒泡排序算法，默认所有的偶数比奇数大\n",
    "    :param numbers: 需要排序的列表，函数会直接修改原始列表\n",
    "    \"\"\"\n",
    "    stop_position = len(numbers) - 1\n",
    "    while stop_position > 0 :\n",
    "        for i in range(stop_position):\n",
    "            current, next_ = numbers[i], numbers[i+1]\n",
    "            current_is_even, next_is_even = current % 2 == 0, next_ % 2 == 0\n",
    "            shoud_swap = False\n",
    "            #交换位置的两个条件：\n",
    "            #前面是偶数，后面是奇数\n",
    "            #前面和后面同为奇数或偶数，但是前面比后面大\n",
    "            if current_is_even and not next_is_even:\n",
    "                should_swap = True\n",
    "            elif current_is_even == next_is_even and current > next_:\n",
    "                should_swap = True\n",
    "                \n",
    "            if should_swap:\n",
    "                numbers[i], numbers[i+1] = numbers[i+1],numbers[i]\n",
    "            stop_position -= 1\n",
    "    return numbers\n",
    "magic_bubble_sort(numbers)"
   ]
  },
  {
   "cell_type": "code",
   "execution_count": null,
   "id": "11c46c4c-76e9-46a3-a36d-53233fc37d53",
   "metadata": {},
   "outputs": [],
   "source": []
  }
 ],
 "metadata": {
  "kernelspec": {
   "display_name": "Python 3 (ipykernel)",
   "language": "python",
   "name": "python3"
  },
  "language_info": {
   "codemirror_mode": {
    "name": "ipython",
    "version": 3
   },
   "file_extension": ".py",
   "mimetype": "text/x-python",
   "name": "python",
   "nbconvert_exporter": "python",
   "pygments_lexer": "ipython3",
   "version": "3.9.12"
  }
 },
 "nbformat": 4,
 "nbformat_minor": 5
}
