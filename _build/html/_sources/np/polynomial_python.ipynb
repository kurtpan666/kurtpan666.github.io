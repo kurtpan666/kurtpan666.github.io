{
 "cells": [
  {
   "cell_type": "markdown",
   "id": "37d2b115",
   "metadata": {},
   "source": [
    "# Python多项式处理基础命令\n",
    "[NumPy](https://numpy.org/) 在[Python](https://www.python.org/) 生态中的地位无需再多言，完全可以说「没有NumPy就没有Python在大数据和机器学习领域的流行」。\n",
    "在NumPy 1.4前，对多项式的操作使用的包是 [numpy.poly1d](https://numpy.org/doc/stable/reference/generated/numpy.poly1d.html#numpy.poly1d) ； NumPy 1.4 后（当下版本1.23），推荐使用更方便易用的包[numpy.polynomial](https://numpy.org/doc/stable/reference/routines.polynomials.package.html#module-numpy.polynomial)。\n",
    "\n",
    "引用方法如下："
   ]
  },
  {
   "cell_type": "code",
   "execution_count": 12,
   "id": "079cd62c",
   "metadata": {},
   "outputs": [
    {
     "name": "stdout",
     "output_type": "stream",
     "text": [
      "3.0 + 2.0·x¹ + 1.0·x²\n"
     ]
    },
    {
     "data": {
      "text/latex": [
       "$x \\mapsto \\text{3.0} + \\text{2.0}\\,x + \\text{1.0}\\,x^{2}$"
      ],
      "text/plain": [
       "Polynomial([3., 2., 1.], domain=[-1,  1], window=[-1,  1])"
      ]
     },
     "execution_count": 12,
     "metadata": {},
     "output_type": "execute_result"
    }
   ],
   "source": [
    "from numpy.polynomial import Polynomial\n",
    "p = Polynomial([3, 2, 1])\n",
    "print(p)\n",
    "p"
   ]
  },
  {
   "cell_type": "markdown",
   "id": "73421b8d",
   "metadata": {},
   "source": [
    "具有下述属性："
   ]
  },
  {
   "cell_type": "code",
   "execution_count": 8,
   "id": "ac8d3353",
   "metadata": {},
   "outputs": [
    {
     "data": {
      "text/plain": [
       "array([3., 2., 1.])"
      ]
     },
     "execution_count": 8,
     "metadata": {},
     "output_type": "execute_result"
    }
   ],
   "source": [
    "# 系数\n",
    "p.coef"
   ]
  },
  {
   "cell_type": "code",
   "execution_count": 9,
   "id": "7d55772f",
   "metadata": {},
   "outputs": [
    {
     "data": {
      "text/plain": [
       "array([-1,  1])"
      ]
     },
     "execution_count": 9,
     "metadata": {},
     "output_type": "execute_result"
    }
   ],
   "source": [
    "# 定义域 : 默认为[-1,1]\n",
    "p.domain"
   ]
  },
  {
   "cell_type": "code",
   "execution_count": 10,
   "id": "860f18be",
   "metadata": {},
   "outputs": [
    {
     "data": {
      "text/plain": [
       "array([-1,  1])"
      ]
     },
     "execution_count": 10,
     "metadata": {},
     "output_type": "execute_result"
    }
   ],
   "source": [
    "# 窗口： 默认为[-1,1]\n",
    "p.window"
   ]
  },
  {
   "cell_type": "markdown",
   "id": "a8284cd2",
   "metadata": {},
   "source": [
    "## 基本代数算术操作\n",
    "加/减/乘/乘方"
   ]
  },
  {
   "cell_type": "code",
   "execution_count": 13,
   "id": "ca0af5fa",
   "metadata": {},
   "outputs": [
    {
     "data": {
      "text/latex": [
       "$x \\mapsto \\text{6.0} + \\text{4.0}\\,x + \\text{2.0}\\,x^{2}$"
      ],
      "text/plain": [
       "Polynomial([6., 4., 2.], domain=[-1.,  1.], window=[-1.,  1.])"
      ]
     },
     "execution_count": 13,
     "metadata": {},
     "output_type": "execute_result"
    }
   ],
   "source": [
    "p + p"
   ]
  },
  {
   "cell_type": "code",
   "execution_count": 14,
   "id": "b8cc46f4",
   "metadata": {},
   "outputs": [
    {
     "data": {
      "text/latex": [
       "$x \\mapsto \\color{LightGray}{\\text{0.0}}$"
      ],
      "text/plain": [
       "Polynomial([0.], domain=[-1.,  1.], window=[-1.,  1.])"
      ]
     },
     "execution_count": 14,
     "metadata": {},
     "output_type": "execute_result"
    }
   ],
   "source": [
    "p - p"
   ]
  },
  {
   "cell_type": "code",
   "execution_count": 15,
   "id": "f0925d46",
   "metadata": {},
   "outputs": [
    {
     "data": {
      "text/latex": [
       "$x \\mapsto \\text{9.0} + \\text{12.0}\\,x + \\text{10.0}\\,x^{2} + \\text{4.0}\\,x^{3} + \\text{1.0}\\,x^{4}$"
      ],
      "text/plain": [
       "Polynomial([ 9., 12., 10.,  4.,  1.], domain=[-1.,  1.], window=[-1.,  1.])"
      ]
     },
     "execution_count": 15,
     "metadata": {},
     "output_type": "execute_result"
    }
   ],
   "source": [
    "p * p"
   ]
  },
  {
   "cell_type": "code",
   "execution_count": 16,
   "id": "90384ace",
   "metadata": {},
   "outputs": [
    {
     "data": {
      "text/latex": [
       "$x \\mapsto \\text{9.0} + \\text{12.0}\\,x + \\text{10.0}\\,x^{2} + \\text{4.0}\\,x^{3} + \\text{1.0}\\,x^{4}$"
      ],
      "text/plain": [
       "Polynomial([ 9., 12., 10.,  4.,  1.], domain=[-1.,  1.], window=[-1.,  1.])"
      ]
     },
     "execution_count": 16,
     "metadata": {},
     "output_type": "execute_result"
    }
   ],
   "source": [
    "p ** 2"
   ]
  },
  {
   "cell_type": "markdown",
   "id": "e0c3cec3",
   "metadata": {},
   "source": [
    "除法"
   ]
  },
  {
   "cell_type": "code",
   "execution_count": 18,
   "id": "41c1ff6e",
   "metadata": {},
   "outputs": [
    {
     "data": {
      "text/latex": [
       "$x \\mapsto \\text{3.0} + \\text{1.0}\\,x$"
      ],
      "text/plain": [
       "Polynomial([3., 1.], domain=[-1.,  1.], window=[-1.,  1.])"
      ]
     },
     "execution_count": 18,
     "metadata": {},
     "output_type": "execute_result"
    }
   ],
   "source": [
    "p // Polynomial([-1, 1])"
   ]
  },
  {
   "cell_type": "code",
   "execution_count": 28,
   "id": "11c46c4c-76e9-46a3-a36d-53233fc37d53",
   "metadata": {},
   "outputs": [
    {
     "data": {
      "text/latex": [
       "$x \\mapsto \\text{1.5} + \\text{1.0}\\,x + \\text{0.5}\\,x^{2}$"
      ],
      "text/plain": [
       "Polynomial([1.5, 1. , 0.5], domain=[-1.,  1.], window=[-1.,  1.])"
      ]
     },
     "execution_count": 28,
     "metadata": {},
     "output_type": "execute_result"
    }
   ],
   "source": [
    "p / 2"
   ]
  },
  {
   "cell_type": "markdown",
   "id": "982ba525",
   "metadata": {},
   "source": [
    "余数"
   ]
  },
  {
   "cell_type": "code",
   "execution_count": 19,
   "id": "f7c19958",
   "metadata": {},
   "outputs": [
    {
     "data": {
      "text/latex": [
       "$x \\mapsto \\text{6.0}$"
      ],
      "text/plain": [
       "Polynomial([6.], domain=[-1.,  1.], window=[-1.,  1.])"
      ]
     },
     "execution_count": 19,
     "metadata": {},
     "output_type": "execute_result"
    }
   ],
   "source": [
    "p % Polynomial([-1, 1])"
   ]
  },
  {
   "cell_type": "markdown",
   "id": "8ba2cac7",
   "metadata": {},
   "source": [
    "带余除法"
   ]
  },
  {
   "cell_type": "code",
   "execution_count": 21,
   "id": "fd22acee",
   "metadata": {},
   "outputs": [
    {
     "name": "stdout",
     "output_type": "stream",
     "text": [
      "3.0 + 1.0·x¹ 6.0\n"
     ]
    }
   ],
   "source": [
    "quo, rem = divmod(p, Polynomial([-1, 1]))\n",
    "print(quo,rem)"
   ]
  },
  {
   "cell_type": "markdown",
   "id": "a6af5ea9",
   "metadata": {},
   "source": [
    "求值"
   ]
  },
  {
   "cell_type": "code",
   "execution_count": 22,
   "id": "a7fa3971",
   "metadata": {},
   "outputs": [
    {
     "data": {
      "text/plain": [
       "array([ 3.,  6., 11., 18., 27.])"
      ]
     },
     "execution_count": 22,
     "metadata": {},
     "output_type": "execute_result"
    }
   ],
   "source": [
    "x = np.arange(5)\n",
    "p(x)"
   ]
  },
  {
   "cell_type": "code",
   "execution_count": 23,
   "id": "ee722731",
   "metadata": {},
   "outputs": [
    {
     "data": {
      "text/plain": [
       "array([[ 3.,  6.],\n",
       "       [11., 18.],\n",
       "       [27., 38.]])"
      ]
     },
     "execution_count": 23,
     "metadata": {},
     "output_type": "execute_result"
    }
   ],
   "source": [
    "x = np.arange(6).reshape(3,2)\n",
    "p(x)"
   ]
  },
  {
   "cell_type": "markdown",
   "id": "e0c31936",
   "metadata": {},
   "source": [
    "代换（将x代换为相应值）"
   ]
  },
  {
   "cell_type": "code",
   "execution_count": 24,
   "id": "75411063",
   "metadata": {},
   "outputs": [
    {
     "data": {
      "text/latex": [
       "$x \\mapsto \\text{18.0} + \\text{16.0}\\,x + \\text{12.0}\\,x^{2} + \\text{4.0}\\,x^{3} + \\text{1.0}\\,x^{4}$"
      ],
      "text/plain": [
       "Polynomial([18., 16., 12.,  4.,  1.], domain=[-1.,  1.], window=[-1.,  1.])"
      ]
     },
     "execution_count": 24,
     "metadata": {},
     "output_type": "execute_result"
    }
   ],
   "source": [
    "p(p)"
   ]
  },
  {
   "cell_type": "markdown",
   "id": "d64da626",
   "metadata": {},
   "source": [
    "求根"
   ]
  },
  {
   "cell_type": "code",
   "execution_count": 25,
   "id": "7936af48",
   "metadata": {},
   "outputs": [
    {
     "data": {
      "text/plain": [
       "array([-1.-1.41421356j, -1.+1.41421356j])"
      ]
     },
     "execution_count": 25,
     "metadata": {},
     "output_type": "execute_result"
    }
   ],
   "source": [
    "p.roots()"
   ]
  },
  {
   "cell_type": "markdown",
   "id": "9f90eba2",
   "metadata": {},
   "source": [
    "直接用list表示多项式"
   ]
  },
  {
   "cell_type": "code",
   "execution_count": 26,
   "id": "9a74e9f4",
   "metadata": {},
   "outputs": [
    {
     "data": {
      "text/latex": [
       "$x \\mapsto \\text{4.0} + \\text{4.0}\\,x + \\text{4.0}\\,x^{2}$"
      ],
      "text/plain": [
       "Polynomial([4., 4., 4.], domain=[-1.,  1.], window=[-1.,  1.])"
      ]
     },
     "execution_count": 26,
     "metadata": {},
     "output_type": "execute_result"
    }
   ],
   "source": [
    "p + [1,2,3]"
   ]
  },
  {
   "cell_type": "code",
   "execution_count": 27,
   "id": "7d7ebe87",
   "metadata": {},
   "outputs": [
    {
     "data": {
      "text/latex": [
       "$x \\mapsto \\text{3.0} + \\text{8.0}\\,x + \\text{14.0}\\,x^{2} + \\text{8.0}\\,x^{3} + \\text{3.0}\\,x^{4}$"
      ],
      "text/plain": [
       "Polynomial([ 3.,  8., 14.,  8.,  3.], domain=[-1.,  1.], window=[-1.,  1.])"
      ]
     },
     "execution_count": 27,
     "metadata": {},
     "output_type": "execute_result"
    }
   ],
   "source": [
    "[1,2,3] * p"
   ]
  },
  {
   "cell_type": "markdown",
   "id": "8366a55c",
   "metadata": {},
   "source": [
    "## 微积分操作\n",
    "下界-1，积分常数2，二重积分"
   ]
  },
  {
   "cell_type": "code",
   "execution_count": 31,
   "id": "3ff9216b",
   "metadata": {},
   "outputs": [
    {
     "data": {
      "text/latex": [
       "$x \\mapsto \\text{3.083333333333333} + \\text{4.333333333333333}\\,x + \\text{1.5}\\,x^{2} + \\text{0.3333333333333333}\\,x^{3} + \\text{0.08333333333333333}\\,x^{4}$"
      ],
      "text/plain": [
       "Polynomial([3.08333333, 4.33333333, 1.5       , 0.33333333, 0.08333333], domain=[-1.,  1.], window=[-1.,  1.])"
      ]
     },
     "execution_count": 31,
     "metadata": {},
     "output_type": "execute_result"
    }
   ],
   "source": [
    "p.integ(2,lbnd=-1,k=2)"
   ]
  },
  {
   "cell_type": "markdown",
   "id": "bfae65d9",
   "metadata": {},
   "source": [
    "二阶导数"
   ]
  },
  {
   "cell_type": "code",
   "execution_count": 32,
   "id": "4403245e",
   "metadata": {},
   "outputs": [
    {
     "data": {
      "text/latex": [
       "$x \\mapsto \\text{2.0}$"
      ],
      "text/plain": [
       "Polynomial([2.], domain=[-1.,  1.], window=[-1.,  1.])"
      ]
     },
     "execution_count": 32,
     "metadata": {},
     "output_type": "execute_result"
    }
   ],
   "source": [
    "p.deriv(2)"
   ]
  },
  {
   "cell_type": "markdown",
   "id": "31b7a8d0",
   "metadata": {},
   "source": [
    "## 其他多项式构造方法\n",
    "从根构造"
   ]
  },
  {
   "cell_type": "code",
   "execution_count": 34,
   "id": "273b03ae",
   "metadata": {},
   "outputs": [
    {
     "data": {
      "text/latex": [
       "$x \\mapsto \\text{-6.0} + \\text{11.0}\\,x - \\text{6.0}\\,x^{2} + \\text{1.0}\\,x^{3}$"
      ],
      "text/plain": [
       "Polynomial([-6., 11., -6.,  1.], domain=[-1.,  1.], window=[-1.,  1.])"
      ]
     },
     "execution_count": 34,
     "metadata": {},
     "output_type": "execute_result"
    }
   ],
   "source": [
    "p = Polynomial.fromroots([1, 2, 3])\n",
    "p"
   ]
  },
  {
   "cell_type": "code",
   "execution_count": 35,
   "id": "935ea41a",
   "metadata": {},
   "outputs": [
    {
     "data": {
      "text/latex": [
       "$x \\mapsto \\color{LightGray}{\\text{0.0}}\\color{LightGray}{ + \\text{0.0}\\,x}\\color{LightGray}{ + \\text{0.0}\\,x^{2}} + \\text{1.0}\\,x^{3}$"
      ],
      "text/plain": [
       "Polynomial([0., 0., 0., 1.], domain=[-1.,  1.], window=[-1.,  1.])"
      ]
     },
     "execution_count": 35,
     "metadata": {},
     "output_type": "execute_result"
    }
   ],
   "source": [
    "Polynomial.basis(3)"
   ]
  },
  {
   "cell_type": "markdown",
   "id": "fdba5aea",
   "metadata": {},
   "source": [
    "## 插值"
   ]
  },
  {
   "cell_type": "code",
   "execution_count": 37,
   "id": "65712bab",
   "metadata": {},
   "outputs": [],
   "source": [
    "rng = np.random.default_rng()\n",
    "x = np.arange(10)\n",
    "y = np.arange(10) + rng.standard_normal(10)"
   ]
  },
  {
   "cell_type": "code",
   "execution_count": 41,
   "id": "ad90bb55",
   "metadata": {},
   "outputs": [
    {
     "data": {
      "text/latex": [
       "$x \\mapsto \\text{4.492417291372314} + \\text{4.042024325791734}\\,\\left(\\text{-1.0} + \\text{0.2222222222222222}x\\right) - \\text{0.048761234928195965}\\,\\left(\\text{-1.0} + \\text{0.2222222222222222}x\\right)^{2}$"
      ],
      "text/plain": [
       "Polynomial([ 4.49241729,  4.04202433, -0.04876123], domain=[0., 9.], window=[-1.,  1.])"
      ]
     },
     "execution_count": 41,
     "metadata": {},
     "output_type": "execute_result"
    }
   ],
   "source": [
    "p_fitted = Polynomial.fit(x, y, deg=2)\n",
    "p_fitted"
   ]
  },
  {
   "cell_type": "markdown",
   "id": "d15b37e2",
   "metadata": {},
   "source": [
    "## 参考\n",
    "- [Using the Convenience Classes](https://numpy.org/doc/stable/reference/routines.polynomials.classes.html)\n",
    "- [numpy.polynomial package](https://numpy.org/doc/stable/reference/routines.polynomials.package.html#module-numpy.polynomial)"
   ]
  },
  {
   "cell_type": "code",
   "execution_count": null,
   "id": "211a81dd",
   "metadata": {},
   "outputs": [],
   "source": []
  }
 ],
 "metadata": {
  "kernelspec": {
   "display_name": "Python 3 (ipykernel)",
   "language": "python",
   "name": "python3"
  },
  "language_info": {
   "codemirror_mode": {
    "name": "ipython",
    "version": 3
   },
   "file_extension": ".py",
   "mimetype": "text/x-python",
   "name": "python",
   "nbconvert_exporter": "python",
   "pygments_lexer": "ipython3",
   "version": "3.9.7"
  },
  "vscode": {
   "interpreter": {
    "hash": "aee8b7b246df8f9039afb4144a1f6fd8d2ca17a180786b69acc140d282b71a49"
   }
  }
 },
 "nbformat": 4,
 "nbformat_minor": 5
}
