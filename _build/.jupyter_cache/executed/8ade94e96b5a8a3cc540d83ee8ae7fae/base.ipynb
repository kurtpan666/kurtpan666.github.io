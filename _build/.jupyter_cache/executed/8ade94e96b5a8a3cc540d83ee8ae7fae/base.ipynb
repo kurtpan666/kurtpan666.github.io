{
 "cells": [
  {
   "cell_type": "code",
   "execution_count": 1,
   "id": "bef4c972-a90f-4716-92de-12c7b81a928b",
   "metadata": {},
   "outputs": [],
   "source": [
    "attrs = [1,['xi', -1]]\n",
    "user_id, (username, score) = attrs"
   ]
  },
  {
   "cell_type": "code",
   "execution_count": 2,
   "id": "d0a9e819-eacc-483c-8f9e-57854b76d69b",
   "metadata": {},
   "outputs": [
    {
     "name": "stdout",
     "output_type": "stream",
     "text": [
      "1 xi -1\n"
     ]
    }
   ],
   "source": [
    "print(user_id,username,score)"
   ]
  },
  {
   "cell_type": "code",
   "execution_count": 3,
   "id": "c70ad047-661a-4871-ada6-669b0ea74b0e",
   "metadata": {},
   "outputs": [
    {
     "name": "stdout",
     "output_type": "stream",
     "text": [
      "jiang ['hu', 'xi', 'qi'] 2049\n"
     ]
    }
   ],
   "source": [
    "data = ['jiang','hu','xi','qi', 2049]\n",
    "username, *huxiqi, year = data\n",
    "print(username, huxiqi, year)"
   ]
  },
  {
   "cell_type": "code",
   "execution_count": 4,
   "id": "935538cd-82c4-456d-8d62-0e6c60971dcd",
   "metadata": {},
   "outputs": [
    {
     "name": "stdout",
     "output_type": "stream",
     "text": [
      "jiang ['hu', 'xi', 'qi'] 2049\n"
     ]
    }
   ],
   "source": [
    "username, huxiqi, year = data[0], data[1:-1], data[-1]\n",
    "print(username, huxiqi, year)"
   ]
  },
  {
   "cell_type": "code",
   "execution_count": 5,
   "id": "d62c22e9-6e1b-4d62-aede-392917983266",
   "metadata": {},
   "outputs": [
    {
     "data": {
      "text/plain": [
       "'jiang'"
      ]
     },
     "execution_count": 5,
     "metadata": {},
     "output_type": "execute_result"
    }
   ],
   "source": [
    "username, *_, score = data\n",
    "username"
   ]
  },
  {
   "cell_type": "code",
   "execution_count": 6,
   "id": "53119327-db87-4198-8992-80ca654137ff",
   "metadata": {},
   "outputs": [],
   "source": [
    "def magic_bubble_sort(numbers):\n",
    "    j = len(numbers) - 1\n",
    "    while j > 0 :\n",
    "        for i in range(j):\n",
    "            if numbers[i] % 2 == 0 and numbers[i+1] % 2 == 1:\n",
    "                numbers[i], numbers[i+1] = numbers[i+1],numbers[i]\n",
    "                continue\n",
    "            elif (numbers[i+1] % 2 == numbers[i] % 2) and numbers[i] > numbers[i+1]:\n",
    "                numbers[i], numbers[i+1] == numbers[i+1],numbers[i]\n",
    "                continue\n",
    "        j -= 1\n",
    "    return numbers\n",
    "numbers = [23,32,1,3,4,19,20,2,4]\n",
    "    "
   ]
  },
  {
   "cell_type": "code",
   "execution_count": 7,
   "id": "d65676bd-a715-45e2-b116-9b7a2a136e31",
   "metadata": {},
   "outputs": [
    {
     "data": {
      "text/plain": [
       "[23, 1, 3, 19, 32, 4, 20, 2, 4]"
      ]
     },
     "execution_count": 7,
     "metadata": {},
     "output_type": "execute_result"
    }
   ],
   "source": [
    "magic_bubble_sort(numbers)"
   ]
  },
  {
   "cell_type": "code",
   "execution_count": 8,
   "id": "305697b9-48d1-484e-9e2e-f780dde3055d",
   "metadata": {},
   "outputs": [
    {
     "data": {
      "text/plain": [
       "[1, 3, 19, 32, 4, 20, 2, 4, 23]"
      ]
     },
     "execution_count": 8,
     "metadata": {},
     "output_type": "execute_result"
    }
   ],
   "source": [
    "def magic_bubble_sort(numbers):\n",
    "    \"\"\"有魔力的冒泡排序算法，默认所有的偶数比奇数大\n",
    "    :param numbers: 需要排序的列表，函数会直接修改原始列表\n",
    "    \"\"\"\n",
    "    stop_position = len(numbers) - 1\n",
    "    while stop_position > 0 :\n",
    "        for i in range(stop_position):\n",
    "            current, next_ = numbers[i], numbers[i+1]\n",
    "            current_is_even, next_is_even = current % 2 == 0, next_ % 2 == 0\n",
    "            shoud_swap = False\n",
    "            #交换位置的两个条件：\n",
    "            #前面是偶数，后面是奇数\n",
    "            #前面和后面同为奇数或偶数，但是前面比后面大\n",
    "            if current_is_even and not next_is_even:\n",
    "                should_swap = True\n",
    "            elif current_is_even == next_is_even and current > next_:\n",
    "                should_swap = True\n",
    "                \n",
    "            if should_swap:\n",
    "                numbers[i], numbers[i+1] = numbers[i+1],numbers[i]\n",
    "            stop_position -= 1\n",
    "    return numbers\n",
    "magic_bubble_sort(numbers)"
   ]
  },
  {
   "cell_type": "code",
   "execution_count": null,
   "id": "11c46c4c-76e9-46a3-a36d-53233fc37d53",
   "metadata": {},
   "outputs": [],
   "source": []
  }
 ],
 "metadata": {
  "kernelspec": {
   "display_name": "Python 3 (ipykernel)",
   "language": "python",
   "name": "python3"
  },
  "language_info": {
   "codemirror_mode": {
    "name": "ipython",
    "version": 3
   },
   "file_extension": ".py",
   "mimetype": "text/x-python",
   "name": "python",
   "nbconvert_exporter": "python",
   "pygments_lexer": "ipython3",
   "version": "3.9.13"
  }
 },
 "nbformat": 4,
 "nbformat_minor": 5
}